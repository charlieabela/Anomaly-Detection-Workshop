{
  "nbformat": 4,
  "nbformat_minor": 0,
  "metadata": {
    "colab": {
      "provenance": []
    },
    "kernelspec": {
      "name": "python3",
      "display_name": "Python 3"
    },
    "language_info": {
      "name": "python"
    }
  },
  "cells": [
    {
      "source": [
        "#!apt-get update\n",
        "#!apt-get install -y graphviz libgraphviz-dev pkg-config\n",
        "!pip install pygraphviz"
      ],
      "cell_type": "code",
      "metadata": {
        "id": "-m5GPxz_PJoD",
        "collapsed": true
      },
      "execution_count": null,
      "outputs": []
    },
    {
      "cell_type": "code",
      "execution_count": null,
      "metadata": {
        "id": "ndDbSAQ1NpMe"
      },
      "outputs": [],
      "source": [
        "# Generate the 2D spatial partitions with iTree splits and corresponding tree diagrams\n",
        "\n",
        "import matplotlib.pyplot as plt\n",
        "import networkx as nx\n"
      ]
    },
    {
      "cell_type": "code",
      "source": [
        "# Coordinates of the points\n",
        "points = {\n",
        "    \"P1\": (1, 1),\n",
        "    \"P2\": (2, 1.5),\n",
        "    \"P3\": (1.5, 2),\n",
        "    \"P4\": (5, 5)\n",
        "}\n",
        "\n",
        "# Split definitions\n",
        "splits_step1 = [{'orientation': 'vertical', 'value': 3}]\n",
        "splits_step2 = splits_step1 + [{'orientation': 'horizontal', 'value': 1.75}]\n",
        "splits_step3 = splits_step2 + [{'orientation': 'vertical', 'value': 1.25}]\n",
        "\n",
        "split_scenarios = [splits_step1, splits_step2, splits_step3]\n",
        "titles = [\"Step 1: Split X = 3\", \"Step 2: Split Y = 1.75\", \"Step 3: Split X = 1.25\"]\n",
        "\n",
        "\n"
      ],
      "metadata": {
        "id": "MLJX6zeTNsxH"
      },
      "execution_count": null,
      "outputs": []
    },
    {
      "cell_type": "code",
      "source": [
        "# Tree definitions for each step\n",
        "trees = []\n",
        "\n",
        "# Step 1 tree\n",
        "G1 = nx.DiGraph()\n",
        "G1.add_node(\"root\", label=\"X ≤ 3?\")\n",
        "G1.add_node(\"leaf_P4\", label=\"P4 (depth 1)\")\n",
        "G1.add_node(\"split_Y\", label=\"...\")\n",
        "GG1 = G1.copy()\n",
        "G1.add_edge(\"root\", \"split_Y\", label=\"Yes\")\n",
        "G1.add_edge(\"root\", \"leaf_P4\", label=\"No\")\n",
        "trees.append(G1)\n",
        "\n"
      ],
      "metadata": {
        "id": "r9m26R9eN4Q-"
      },
      "execution_count": null,
      "outputs": []
    },
    {
      "cell_type": "code",
      "source": [
        "# Step 2 tree\n",
        "G2 = nx.DiGraph()\n",
        "G2.add_node(\"root\", label=\"X ≤ 3?\")\n",
        "G2.add_node(\"split_Y\", label=\"Y ≤ 1.75?\")\n",
        "G2.add_node(\"leaf_P4\", label=\"P4 (depth 1)\")\n",
        "G2.add_node(\"split_X\", label=\"...\")\n",
        "G2.add_node(\"leaf_P3\", label=\"P3 (depth 2)\")\n",
        "G2.add_edge(\"root\", \"split_Y\", label=\"Yes\")\n",
        "G2.add_edge(\"root\", \"leaf_P4\", label=\"No\")\n",
        "G2.add_edge(\"split_Y\", \"split_X\", label=\"Yes\")\n",
        "G2.add_edge(\"split_Y\", \"leaf_P3\", label=\"No\")\n",
        "trees.append(G2)\n",
        "\n"
      ],
      "metadata": {
        "id": "gtsRYW8NN7ZC"
      },
      "execution_count": null,
      "outputs": []
    },
    {
      "cell_type": "code",
      "source": [
        "# Step 3 tree\n",
        "G3 = nx.DiGraph()\n",
        "G3.add_node(\"root\", label=\"X ≤ 3?\")\n",
        "G3.add_node(\"split_Y\", label=\"Y ≤ 1.75?\")\n",
        "G3.add_node(\"leaf_P4\", label=\"P4 (depth 1)\")\n",
        "G3.add_node(\"split_X\", label=\"X ≤ 1.25?\")\n",
        "G3.add_node(\"leaf_P3\", label=\"P3 (depth 2)\")\n",
        "G3.add_node(\"leaf_P1\", label=\"P1 (depth 3)\")\n",
        "G3.add_node(\"leaf_P2\", label=\"P2 (depth 4)\")\n",
        "G3.add_edge(\"root\", \"split_Y\", label=\"Yes\")\n",
        "G3.add_edge(\"root\", \"leaf_P4\", label=\"No\")\n",
        "G3.add_edge(\"split_Y\", \"split_X\", label=\"Yes\")\n",
        "G3.add_edge(\"split_Y\", \"leaf_P3\", label=\"No\")\n",
        "G3.add_edge(\"split_X\", \"leaf_P1\", label=\"Yes\")\n",
        "G3.add_edge(\"split_X\", \"leaf_P2\", label=\"No\")\n",
        "trees.append(G3)\n",
        "\n"
      ],
      "metadata": {
        "id": "MABm_RSLN-Wi"
      },
      "execution_count": null,
      "outputs": []
    },
    {
      "cell_type": "code",
      "source": [
        "# Generate visuals\n",
        "fig, axes = plt.subplots(3, 2, figsize=(14, 15))\n",
        "\n",
        "for idx in range(3):\n",
        "    # Left: 2D partition plot\n",
        "    ax = axes[idx, 0]\n",
        "    for name, (x, y) in points.items():\n",
        "        color = 'red' if name == 'P4' else 'blue'\n",
        "        ax.scatter(x, y, color=color, s=100, edgecolor='black')\n",
        "        ax.text(x + 0.1, y, name, fontsize=12)\n",
        "    for split in split_scenarios[idx]:\n",
        "        if split['orientation'] == 'vertical':\n",
        "            ax.axvline(x=split['value'], color='black', linestyle='--')\n",
        "        else:\n",
        "            ax.axhline(y=split['value'], color='black', linestyle='--')\n",
        "    ax.set_xlim(0, 6)\n",
        "    ax.set_ylim(0, 6)\n",
        "    ax.set_title(titles[idx])\n",
        "    ax.grid(True)\n",
        "\n",
        "    # Right: Tree diagram\n",
        "    G = trees[idx]\n",
        "    pos = nx.nx_agraph.graphviz_layout(G, prog='dot')\n",
        "    labels = nx.get_node_attributes(G, 'label')\n",
        "    nx.draw(G, pos, ax=axes[idx, 1], with_labels=True, labels=labels,\n",
        "            node_size=3000, node_color=\"lightblue\", font_size=10, edge_color=\"gray\")\n",
        "    edge_labels = nx.get_edge_attributes(G, 'label')\n",
        "    nx.draw_networkx_edge_labels(G, pos, edge_labels=edge_labels, ax=axes[idx, 1])\n",
        "    axes[idx, 1].set_title(f\"iTree After {titles[idx]}\")\n",
        "    axes[idx, 1].axis('off')\n"
      ],
      "metadata": {
        "id": "odxzE3t3OCjS"
      },
      "execution_count": null,
      "outputs": []
    }
  ]
}
